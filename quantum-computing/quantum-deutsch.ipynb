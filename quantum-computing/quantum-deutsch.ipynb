{
 "cells": [
  {
   "cell_type": "markdown",
   "id": "463f258e-79c8-48e9-8513-915fb213b7d1",
   "metadata": {},
   "source": [
    "# What is a quantum computer?"
   ]
  },
  {
   "cell_type": "markdown",
   "id": "41d6d0af-70c7-4781-9c0c-6121d7ab68dc",
   "metadata": {},
   "source": [
    "Quantum computing is a type of computation that harness the collective properties of quantum states, such as superposition, interference, and entanglement, to perform calculations"
   ]
  },
  {
   "cell_type": "markdown",
   "id": "58fcd086-ad86-45be-bcf9-d78b2b1119f7",
   "metadata": {},
   "source": [
    "***"
   ]
  },
  {
   "cell_type": "markdown",
   "id": "f4ec8502-2f3c-4819-bd76-2f186ccc5096",
   "metadata": {},
   "source": [
    "# How does quantum computing work?"
   ]
  },
  {
   "cell_type": "markdown",
   "id": "c47c43e3-781f-40c9-a6b7-569773f77bae",
   "metadata": {},
   "source": [
    "Quantum computers work by trying to predict the state of an object before it is actually measured, this allows quantum computers to process a lot more data than a classical computer."
   ]
  },
  {
   "cell_type": "markdown",
   "id": "fe11ca5e-0a0a-4879-b2d2-d3b2ae74d06a",
   "metadata": {},
   "source": [
    "### Qubit"
   ]
  },
  {
   "cell_type": "markdown",
   "id": "ada31b7e-5cdd-433a-95d9-d4d11e19def0",
   "metadata": {},
   "source": [
    "Quantum computers use quantum bits (qubits) which are a third state called \"Superposition\" which allows quantum computers to represent ones & zeros at the same time where as classical computers are represented by a one or zero but not at the same time. "
   ]
  },
  {
   "cell_type": "markdown",
   "id": "6625f086-69ba-404c-9bca-aff9626b6467",
   "metadata": {},
   "source": [
    "![Image](https://www.bbvaopenmind.com/wp-content/uploads/2016/10/qubit-1.jpg)"
   ]
  },
  {
   "cell_type": "markdown",
   "id": "0ac5a03f-c1cb-4a76-bcf4-5688d20b40fc",
   "metadata": {},
   "source": [
    "### Quantum Superposition"
   ]
  },
  {
   "cell_type": "markdown",
   "id": "5c8aafa4-13a2-4b43-b028-b572009b2e5b",
   "metadata": {},
   "source": [
    "An electron can exist in two different positions called spin up or spin down. That electron can be in either state up or down but once it is measured it can be observed to be in a specific state but until it's measured you don't know which state it is in."
   ]
  },
  {
   "cell_type": "markdown",
   "id": "b60cf7a2-397e-467a-abbe-e86f7066c2cd",
   "metadata": {},
   "source": [
    "![Image](https://cronodon.com/images/electron-spin.jpg)"
   ]
  },
  {
   "cell_type": "markdown",
   "id": "fbf0510a-ffe7-4ef5-b169-f0c477a32f4c",
   "metadata": {},
   "source": [
    "### Entanglement"
   ]
  },
  {
   "cell_type": "markdown",
   "id": "510574e5-5fb3-4510-8a52-e8eaa12b58e5",
   "metadata": {},
   "source": [
    "When measuring one entangled qubit you can directly assume if one qubit is up that the other one is going to be down without checking."
   ]
  },
  {
   "cell_type": "markdown",
   "id": "cdaf7d5f-b7fc-4875-b4f5-26a6a3e0faf6",
   "metadata": {},
   "source": [
    "### Interference\n",
    "\n",
    "https://whatis.techtarget.com/definition/quantum-interference"
   ]
  },
  {
   "cell_type": "markdown",
   "id": "58c5d3dd-3ff5-49dc-a035-5e3d09243954",
   "metadata": {},
   "source": [
    "The concept states that elementary particles can not only be in more than one place at any given time (through superposition), but that an individual particle, such as a photon (light particles) can cross its own trajectory and interfere with the direction of its path. "
   ]
  },
  {
   "cell_type": "markdown",
   "id": "5be1c539-98b6-458e-9a8b-5937920ac2b7",
   "metadata": {},
   "source": [
    "![Image](https://upload.wikimedia.org/wikipedia/commons/thumb/c/cd/Double-slit.svg/640px-Double-slit.svg.png)"
   ]
  },
  {
   "cell_type": "markdown",
   "id": "c537183b-9559-449c-abe9-53b813ad15f3",
   "metadata": {},
   "source": [
    "***"
   ]
  },
  {
   "cell_type": "markdown",
   "id": "129729e7-914b-4b7e-882d-a83d1a1bfacd",
   "metadata": {},
   "source": [
    "# Difference between a classical computer & quantum qomputer"
   ]
  },
  {
   "cell_type": "markdown",
   "id": "d704e9d6-f99b-422d-aca0-da64300587a8",
   "metadata": {},
   "source": [
    "Currently quantum computers are to small to outperform a classical computer for practical applications but they are believed to be capable of solving certain computational problems such as encryption at a much faster rate than a classical computer. Quantum computers are also much better at searching through databases than a classical computer."
   ]
  },
  {
   "cell_type": "markdown",
   "id": "852db5c1-77bc-4d8a-b0cf-29d2e61b8a0a",
   "metadata": {},
   "source": [
    "Anything that a classical computer can calculate so can a quantum computer but they are not as practical when it comes to everyday tasks. If you are browsing the internet or watching a video a quantum computer will not give you any extra benefits, that is why quantum computers are not replacements for classicals computers."
   ]
  },
  {
   "cell_type": "markdown",
   "id": "5fae8bde-ef52-4aaf-a357-ab3128c4e8a1",
   "metadata": {},
   "source": [
    "Quantum computers are said to use less power than a classical computer up 100 to 1000 times less power consumption."
   ]
  },
  {
   "cell_type": "markdown",
   "id": "a17156e1-19bc-4770-9599-2feef437c47b",
   "metadata": {},
   "source": [
    "A quantum machine in a game of chess would be able to calculate 1 trillion moves per second where as IBM's Deep Blue classical computer who beat  Garry Kasparov in 1997 is able to calculate 200 million moves each second."
   ]
  },
  {
   "cell_type": "markdown",
   "id": "e52a965b-ae9a-4339-b1f2-ec11e143a843",
   "metadata": {},
   "source": [
    "### Decoherence"
   ]
  },
  {
   "cell_type": "markdown",
   "id": "f9b54168-32c0-4a29-af93-1b5d2f8a5a93",
   "metadata": {},
   "source": [
    "Quantum computers are very sensitive any type of shake, heat, electromagnetic fields or collisions with air can cause a quibit to lose its quantum properties this is called decoherence. This is why the environment a quantum computer is stored in is very important."
   ]
  },
  {
   "cell_type": "markdown",
   "id": "187da76c-2654-4f52-b7ed-1d310526e07b",
   "metadata": {},
   "source": [
    "***"
   ]
  },
  {
   "cell_type": "markdown",
   "id": "0c11b609-a55a-4f6b-9bb8-24820bd455a4",
   "metadata": {},
   "source": [
    "## References"
   ]
  },
  {
   "cell_type": "markdown",
   "id": "8743fbe4-a76b-402f-ac3f-ce40e21b3c41",
   "metadata": {},
   "source": [
    "https://en.wikipedia.org/wiki/Quantum_computing"
   ]
  },
  {
   "cell_type": "markdown",
   "id": "6b6478af-c1f7-4a79-8d8e-0d8bc355a2c7",
   "metadata": {},
   "source": [
    "https://www.sciencealert.com/quantum-computers"
   ]
  },
  {
   "cell_type": "markdown",
   "id": "2d9edf30-ede1-4d36-8397-c71b89576167",
   "metadata": {},
   "source": [
    "https://bernardmarr.com/15-things-everyone-should-know-about-quantum-computing/#:~:text=Classical%20computers%20manipulate%20ones%20and,zero%20at%20the%20same%20time."
   ]
  },
  {
   "cell_type": "markdown",
   "id": "58afbabd-2257-422e-8c3f-32cd91b1d0b3",
   "metadata": {},
   "source": [
    "Qubit Image: https://www.bbvaopenmind.com/en/technology/digital-world/towards-the-quantum-computer-qubits-and-qudits/"
   ]
  },
  {
   "cell_type": "markdown",
   "id": "cd58b3dc-9728-4bb9-be9a-4114b81a3bb2",
   "metadata": {},
   "source": [
    "https://bernardmarr.com/15-things-everyone-should-know-about-quantum-computing/"
   ]
  },
  {
   "cell_type": "markdown",
   "id": "69f757ca-3aaf-4297-855f-140ed9621fe8",
   "metadata": {},
   "source": [
    "Spin-up Spin-down: https://www.google.com/url?sa=i&url=https%3A%2F%2Fcronodon.com%2FAtomic%2FQuantum_Measurement.html&psig=AOvVaw0BCgg18j1FPb3m5eZBRVQ7&ust=1637588399743000&source=images&cd=vfe&ved=0CAwQjhxqFwoTCICzyqvKqfQCFQAAAAAdAAAAABAD"
   ]
  },
  {
   "cell_type": "markdown",
   "id": "fd3509d2-9a4a-4649-8e88-7167d247cfa5",
   "metadata": {},
   "source": [
    "https://www.youtube.com/watch?v=g_IaVepNDT4"
   ]
  },
  {
   "cell_type": "markdown",
   "id": "8301f3b7-ff26-4bf4-84ff-57e15fa84470",
   "metadata": {},
   "source": [
    "Decoherence: https://www.newscientist.com/question/what-is-a-quantum-computer/"
   ]
  },
  {
   "cell_type": "markdown",
   "id": "e595998b-e520-4694-ad43-ce1f42bf2cdc",
   "metadata": {},
   "source": [
    "https://www.youtube.com/watch?v=JhHMJCUmq28\\\n"
   ]
  },
  {
   "cell_type": "markdown",
   "id": "ba1e5220-f202-4f51-af4f-c3d81103d557",
   "metadata": {},
   "source": [
    "Interference image: https://www.google.com/url?sa=i&url=https%3A%2F%2Fen.wikipedia.org%2Fwiki%2FDouble-slit_experiment&psig=AOvVaw29_UjeTNqfSi0FiX7f7hZP&ust=1637591496320000&source=images&cd=vfe&ved=0CAwQjhxqFwoTCNj25O_VqfQCFQAAAAAdAAAAABAb"
   ]
  },
  {
   "cell_type": "code",
   "execution_count": null,
   "id": "f6602c44-d4ae-4edb-924d-9f9719845b8e",
   "metadata": {},
   "outputs": [],
   "source": []
  }
 ],
 "metadata": {
  "kernelspec": {
   "display_name": "Python 3 (ipykernel)",
   "language": "python",
   "name": "python3"
  },
  "language_info": {
   "codemirror_mode": {
    "name": "ipython",
    "version": 3
   },
   "file_extension": ".py",
   "mimetype": "text/x-python",
   "name": "python",
   "nbconvert_exporter": "python",
   "pygments_lexer": "ipython3",
   "version": "3.8.12"
  }
 },
 "nbformat": 4,
 "nbformat_minor": 5
}
