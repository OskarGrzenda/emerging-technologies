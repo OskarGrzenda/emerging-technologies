{
 "cells": [
  {
   "cell_type": "markdown",
   "id": "9b03d5e2-9023-4718-b0df-ee030f7db22b",
   "metadata": {},
   "source": [
    "# Quantum Computing Tests"
   ]
  },
  {
   "cell_type": "code",
   "execution_count": 1,
   "id": "ca67fd0a-06aa-47ee-9860-c2d7e3dfecd0",
   "metadata": {},
   "outputs": [],
   "source": [
    "import numpy"
   ]
  },
  {
   "cell_type": "code",
   "execution_count": 2,
   "id": "38702617-c2de-4c1b-a6ab-41e35d6cf12f",
   "metadata": {},
   "outputs": [],
   "source": [
    "import qiskit"
   ]
  },
  {
   "cell_type": "code",
   "execution_count": null,
   "id": "6b7d243e-8591-47ed-8b2a-2aacf8cd16c0",
   "metadata": {},
   "outputs": [],
   "source": [
    "qiskit."
   ]
  }
 ],
 "metadata": {
  "kernelspec": {
   "display_name": "Python 3 (ipykernel)",
   "language": "python",
   "name": "python3"
  },
  "language_info": {
   "codemirror_mode": {
    "name": "ipython",
    "version": 3
   },
   "file_extension": ".py",
   "mimetype": "text/x-python",
   "name": "python",
   "nbconvert_exporter": "python",
   "pygments_lexer": "ipython3",
   "version": "3.9.7"
  }
 },
 "nbformat": 4,
 "nbformat_minor": 5
}
